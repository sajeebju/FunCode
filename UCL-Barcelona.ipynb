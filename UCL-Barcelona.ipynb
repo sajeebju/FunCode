{
 "cells": [
  {
   "cell_type": "markdown",
   "metadata": {},
   "source": [
    "# Simple Prediction for Barcelona win/loss for UCL  2020-21 season"
   ]
  },
  {
   "cell_type": "code",
   "execution_count": 7,
   "metadata": {},
   "outputs": [
    {
     "name": "stdout",
     "output_type": "stream",
     "text": [
      "Yes! Barcelona has possibility to win the UCL in seasion 2020/2021\n"
     ]
    }
   ],
   "source": [
    "#import module\n",
    "import pandas as pd\n",
    "import numpy as np\n",
    "\n",
    "# UCL dataset import\n",
    "ucl = pd.read_csv(\"ucl-soccer-1955-2019.csv\")\n",
    "\n",
    "ucl.drop(['formation', 'mvp'], axis = 1, inplace = True)\n",
    "ucl.head()\n",
    "ucl['nation'].value_counts()\n",
    "nation_n = pd.get_dummies(ucl['nation'],drop_first=True)\n",
    "ucl.drop(['nation'],axis=1,inplace=True)\n",
    "df = pd.concat([ucl, nation_n], axis = 1)\n",
    "\n",
    "# Preprocessing dataset\n",
    "from sklearn.preprocessing import LabelEncoder\n",
    "label = LabelEncoder()\n",
    "\n",
    "df['club_a'] = label.fit_transform(df['club'])\n",
    "df['coach_a'] = label.fit_transform(df['coach'])\n",
    "df['position_a'] = label.fit_transform(df['position'])\n",
    "df['season_a'] = label.fit_transform(df['season'])\n",
    "\n",
    "df.drop(['club', 'coach','position', 'season'], axis = 1, inplace = True)\n",
    "\n",
    "#Variables selection\n",
    "X = df.drop('position_a', axis = 1)\n",
    "y = df['position_a']\n",
    "\n",
    "#Train & Test dataset\n",
    "from sklearn.model_selection import train_test_split\n",
    "X_train, X_test, y_train, y_test = train_test_split(X, y, test_size = 0.2, random_state = 0)\n",
    "\n",
    "#Creating ,odel\n",
    "from sklearn.ensemble import RandomForestClassifier\n",
    "model = RandomForestClassifier()\n",
    "\n",
    "model.fit(X_train, y_train)\n",
    "model.score(X_test, y_test)\n",
    "y_pred = model.predict(X_test)\n",
    "\n",
    "# Details of Barca\n",
    "ucl[ucl['club'] == 'Barcelona FC']['club']\n",
    "\n",
    "# Custom prediction inputing some relevant values for 2020-2021 season\n",
    "prediction = model.predict([[0,0,0,0,0,0,0,0,0,0,1,0,9,47,65]])\n",
    "\n",
    "def Barca():\n",
    "    \n",
    "    pred_lst = prediction.tolist()\n",
    "    for i in pred_lst:\n",
    "        if i>= float(0.5):\n",
    "            print(\"Yes! Barcelona has possibility to win the UCL in seasion 2020/2021\")\n",
    "        else:\n",
    "            print(\"Sorry! Barcelona has no possibility to win the UCL in seasion 2020/2021 \")\n",
    "    \n",
    "Barca()\n",
    "\n",
    "            "
   ]
  }
 ],
 "metadata": {
  "kernelspec": {
   "display_name": "Python 3",
   "language": "python",
   "name": "python3"
  },
  "language_info": {
   "codemirror_mode": {
    "name": "ipython",
    "version": 3
   },
   "file_extension": ".py",
   "mimetype": "text/x-python",
   "name": "python",
   "nbconvert_exporter": "python",
   "pygments_lexer": "ipython3",
   "version": "3.8.3"
  }
 },
 "nbformat": 4,
 "nbformat_minor": 4
}
