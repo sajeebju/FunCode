{
  "nbformat": 4,
  "nbformat_minor": 0,
  "metadata": {
    "colab": {
      "name": "MNIST.ipynb",
      "provenance": [],
      "collapsed_sections": [],
      "authorship_tag": "ABX9TyMgFuzYkliCbpV0OO65/oUu",
      "include_colab_link": true
    },
    "kernelspec": {
      "name": "python3",
      "display_name": "Python 3"
    },
    "accelerator": "GPU"
  },
  "cells": [
    {
      "cell_type": "markdown",
      "metadata": {
        "id": "view-in-github",
        "colab_type": "text"
      },
      "source": [
        "<a href=\"https://colab.research.google.com/github/sajeebju/FunCode/blob/main/MNIST.ipynb\" target=\"_parent\"><img src=\"https://colab.research.google.com/assets/colab-badge.svg\" alt=\"Open In Colab\"/></a>"
      ]
    },
    {
      "cell_type": "code",
      "metadata": {
        "id": "6JwIvxnmXJy3"
      },
      "source": [
        "import numpy as np\n",
        "import matplotlib.pyplot as plt\n",
        "from sklearn.metrics import confusion_matrix\n",
        "import tensorflow as tf"
      ],
      "execution_count": 23,
      "outputs": []
    },
    {
      "cell_type": "code",
      "metadata": {
        "colab": {
          "base_uri": "https://localhost:8080/"
        },
        "id": "z-AK0tmJXWAu",
        "outputId": "d27e3e23-1aa3-4050-adc6-5de3d5f9d1c6"
      },
      "source": [
        " (X_train, y_train), (X_test, y_test) = tf.keras.datasets.mnist.load_data()"
      ],
      "execution_count": 6,
      "outputs": [
        {
          "output_type": "stream",
          "text": [
            "Downloading data from https://storage.googleapis.com/tensorflow/tf-keras-datasets/mnist.npz\n",
            "11493376/11490434 [==============================] - 0s 0us/step\n"
          ],
          "name": "stdout"
        }
      ]
    },
    {
      "cell_type": "code",
      "metadata": {
        "colab": {
          "base_uri": "https://localhost:8080/"
        },
        "id": "Gsnu6opuZAMz",
        "outputId": "88eeeead-9954-4718-93eb-3d87a6c2b490"
      },
      "source": [
        "X_train.shape"
      ],
      "execution_count": 7,
      "outputs": [
        {
          "output_type": "execute_result",
          "data": {
            "text/plain": [
              "(60000, 28, 28)"
            ]
          },
          "metadata": {
            "tags": []
          },
          "execution_count": 7
        }
      ]
    },
    {
      "cell_type": "code",
      "metadata": {
        "colab": {
          "base_uri": "https://localhost:8080/",
          "height": 293
        },
        "id": "CRmvh6Y9Zhit",
        "outputId": "a2c6261e-fa95-4f02-e747-c07a0b6d6d9b"
      },
      "source": [
        "plt.matshow(X_train[0])"
      ],
      "execution_count": 8,
      "outputs": [
        {
          "output_type": "execute_result",
          "data": {
            "text/plain": [
              "<matplotlib.image.AxesImage at 0x7f49d8331208>"
            ]
          },
          "metadata": {
            "tags": []
          },
          "execution_count": 8
        },
        {
          "output_type": "display_data",
          "data": {
            "image/png": "[encoded data removed]",
            "text/plain": [
              "<Figure size 288x288 with 1 Axes>"
            ]
          },
          "metadata": {
            "tags": [],
            "needs_background": "light"
          }
        }
      ]
    },
    {
      "cell_type": "code",
      "metadata": {
        "colab": {
          "base_uri": "https://localhost:8080/",
          "height": 293
        },
        "id": "TLb8uW8PZlFE",
        "outputId": "3d379fb1-55cd-4a75-a902-d7fe0e8ba661"
      },
      "source": [
        "plt.matshow(X_train[1])"
      ],
      "execution_count": 9,
      "outputs": [
        {
          "output_type": "execute_result",
          "data": {
            "text/plain": [
              "<matplotlib.image.AxesImage at 0x7f49d8302a20>"
            ]
          },
          "metadata": {
            "tags": []
          },
          "execution_count": 9
        },
        {
          "output_type": "display_data",
          "data": {
            "image/png": "[encoded data removed]",
            "text/plain": [
              "<Figure size 288x288 with 1 Axes>"
            ]
          },
          "metadata": {
            "tags": [],
            "needs_background": "light"
          }
        }
      ]
    },
    {
      "cell_type": "code",
      "metadata": {
        "id": "DzSQ3GahZtgf"
      },
      "source": [
        "X_train = X_train / 255.0\n",
        "X_test = X_test / 255.0"
      ],
      "execution_count": 10,
      "outputs": []
    },
    {
      "cell_type": "code",
      "metadata": {
        "id": "5kQBp14Maao8"
      },
      "source": [
        "X_train_flattened = X_train.reshape(len(X_train), 28*28)\n",
        "X_test_flattened = X_test.reshape(len(X_test), 28*28)\n"
      ],
      "execution_count": 11,
      "outputs": []
    },
    {
      "cell_type": "markdown",
      "metadata": {
        "id": "d8CXyivoazMI"
      },
      "source": [
        "Model Building"
      ]
    },
    {
      "cell_type": "code",
      "metadata": {
        "colab": {
          "base_uri": "https://localhost:8080/"
        },
        "id": "7K0EDVUYa3Qa",
        "outputId": "a5b5ed9b-a64a-43bb-f3b5-65a09cf4e81e"
      },
      "source": [
        "model = tf.keras.Sequential([\n",
        "                             tf.keras.layers.Dense(10, input_shape = (784, ), activation = 'softmax')        \n",
        "])\n",
        "\n",
        "model.compile(\n",
        "    optimizer = 'adam', \n",
        "    loss = 'sparse_categorical_crossentropy', \n",
        "    metrics = ['accuracy']\n",
        "              \n",
        "              )\n",
        "model.fit(X_train_flattened , y_train, epochs = 5)"
      ],
      "execution_count": 12,
      "outputs": [
        {
          "output_type": "stream",
          "text": [
            "Epoch 1/5\n",
            "1875/1875 [==============================] - 5s 1ms/step - loss: 0.7127 - accuracy: 0.8143\n",
            "Epoch 2/5\n",
            "1875/1875 [==============================] - 3s 1ms/step - loss: 0.3144 - accuracy: 0.9126\n",
            "Epoch 3/5\n",
            "1875/1875 [==============================] - 3s 1ms/step - loss: 0.2863 - accuracy: 0.9209\n",
            "Epoch 4/5\n",
            "1875/1875 [==============================] - 3s 1ms/step - loss: 0.2712 - accuracy: 0.9238\n",
            "Epoch 5/5\n",
            "1875/1875 [==============================] - 3s 1ms/step - loss: 0.2710 - accuracy: 0.9238\n"
          ],
          "name": "stdout"
        },
        {
          "output_type": "execute_result",
          "data": {
            "text/plain": [
              "<tensorflow.python.keras.callbacks.History at 0x7f49d04cd198>"
            ]
          },
          "metadata": {
            "tags": []
          },
          "execution_count": 12
        }
      ]
    },
    {
      "cell_type": "code",
      "metadata": {
        "colab": {
          "base_uri": "https://localhost:8080/"
        },
        "id": "1OjebjwbfXms",
        "outputId": "491f2a09-e582-4e5a-a5b4-a8a95ca442a8"
      },
      "source": [
        "model.summary()"
      ],
      "execution_count": 24,
      "outputs": [
        {
          "output_type": "stream",
          "text": [
            "Model: \"sequential\"\n",
            "_________________________________________________________________\n",
            "Layer (type)                 Output Shape              Param #   \n",
            "=================================================================\n",
            "dense (Dense)                (None, 10)                7850      \n",
            "=================================================================\n",
            "Total params: 7,850\n",
            "Trainable params: 7,850\n",
            "Non-trainable params: 0\n",
            "_________________________________________________________________\n"
          ],
          "name": "stdout"
        }
      ]
    },
    {
      "cell_type": "code",
      "metadata": {
        "colab": {
          "base_uri": "https://localhost:8080/"
        },
        "id": "ZiqiNXm-byB_",
        "outputId": "539619e7-0eed-47f0-ee78-d2a1c86fb528"
      },
      "source": [
        "model.evaluate(X_test_flattened, y_test)"
      ],
      "execution_count": 13,
      "outputs": [
        {
          "output_type": "stream",
          "text": [
            "313/313 [==============================] - 1s 2ms/step - loss: 0.2752 - accuracy: 0.9229\n"
          ],
          "name": "stdout"
        },
        {
          "output_type": "execute_result",
          "data": {
            "text/plain": [
              "[0.27515631914138794, 0.9229000210762024]"
            ]
          },
          "metadata": {
            "tags": []
          },
          "execution_count": 13
        }
      ]
    },
    {
      "cell_type": "code",
      "metadata": {
        "colab": {
          "base_uri": "https://localhost:8080/"
        },
        "id": "BZ7-1eRfcDl-",
        "outputId": "6ef68ed5-b74d-4674-b7ad-9860b1b8447a"
      },
      "source": [
        "y_predicted = model.predict(X_test_flattened)\n",
        "y_predicted"
      ],
      "execution_count": 16,
      "outputs": [
        {
          "output_type": "execute_result",
          "data": {
            "text/plain": [
              "array([[2.9670132e-06, 4.1310070e-11, 5.1206412e-06, ..., 9.9777192e-01,\n",
              "        1.5378129e-05, 2.9235726e-04],\n",
              "       [5.5395707e-04, 4.0537757e-06, 9.8973364e-01, ..., 8.1054107e-16,\n",
              "        1.8361534e-04, 1.3113662e-12],\n",
              "       [2.3436576e-06, 9.8210597e-01, 8.7185726e-03, ..., 9.6168218e-04,\n",
              "        3.9669992e-03, 2.8149545e-04],\n",
              "       ...,\n",
              "       [6.6458774e-08, 5.6873503e-08, 1.0729407e-05, ..., 6.4435690e-03,\n",
              "        2.0412175e-02, 5.2238304e-02],\n",
              "       [3.8110193e-07, 4.2240336e-07, 3.1369581e-07, ..., 1.5771271e-07,\n",
              "        5.4752221e-03, 2.5226441e-07],\n",
              "       [2.5149070e-06, 8.7979320e-14, 6.3775740e-05, ..., 3.3959736e-12,\n",
              "        7.8333990e-08, 3.0381944e-10]], dtype=float32)"
            ]
          },
          "metadata": {
            "tags": []
          },
          "execution_count": 16
        }
      ]
    },
    {
      "cell_type": "code",
      "metadata": {
        "colab": {
          "base_uri": "https://localhost:8080/",
          "height": 293
        },
        "id": "wrINe8LucK7l",
        "outputId": "bf902af9-fe16-4f07-ca72-831354457d16"
      },
      "source": [
        "plt.matshow(X_test[0])"
      ],
      "execution_count": 15,
      "outputs": [
        {
          "output_type": "execute_result",
          "data": {
            "text/plain": [
              "<matplotlib.image.AxesImage at 0x7f49d0490c88>"
            ]
          },
          "metadata": {
            "tags": []
          },
          "execution_count": 15
        },
        {
          "output_type": "display_data",
          "data": {
            "image/png": "[encoded data removed]",
            "text/plain": [
              "<Figure size 288x288 with 1 Axes>"
            ]
          },
          "metadata": {
            "tags": [],
            "needs_background": "light"
          }
        }
      ]
    },
    {
      "cell_type": "code",
      "metadata": {
        "colab": {
          "base_uri": "https://localhost:8080/"
        },
        "id": "MjMzymJdcitD",
        "outputId": "7e6f33c6-8f9f-4ded-fa5b-23640320d24d"
      },
      "source": [
        "y_predicted[0]"
      ],
      "execution_count": 17,
      "outputs": [
        {
          "output_type": "execute_result",
          "data": {
            "text/plain": [
              "array([2.9670132e-06, 4.1310070e-11, 5.1206412e-06, 1.8920475e-03,\n",
              "       1.7446105e-07, 1.9988729e-05, 1.8232976e-10, 9.9777192e-01,\n",
              "       1.5378129e-05, 2.9235726e-04], dtype=float32)"
            ]
          },
          "metadata": {
            "tags": []
          },
          "execution_count": 17
        }
      ]
    },
    {
      "cell_type": "code",
      "metadata": {
        "colab": {
          "base_uri": "https://localhost:8080/"
        },
        "id": "yGZKhJeEc3GC",
        "outputId": "bc3563eb-caf3-4e86-e81e-0c97ab35b0bd"
      },
      "source": [
        "y_predicted_labels = [np.argmax(i) for i in y_predicted]\n",
        "y_predicted_labels[:5]"
      ],
      "execution_count": 20,
      "outputs": [
        {
          "output_type": "execute_result",
          "data": {
            "text/plain": [
              "[7, 2, 1, 0, 4]"
            ]
          },
          "metadata": {
            "tags": []
          },
          "execution_count": 20
        }
      ]
    },
    {
      "cell_type": "code",
      "metadata": {
        "colab": {
          "base_uri": "https://localhost:8080/"
        },
        "id": "DU1AgKm5eEI2",
        "outputId": "4975f387-cdcb-434c-8e5f-163749413af0"
      },
      "source": [
        "cm = tf.math.confusion_matrix(labels = y_test, predictions=y_predicted_labels)\n",
        "cm"
      ],
      "execution_count": 21,
      "outputs": [
        {
          "output_type": "execute_result",
          "data": {
            "text/plain": [
              "<tf.Tensor: shape=(10, 10), dtype=int32, numpy=\n",
              "array([[ 963,    0,    1,    1,    0,    5,    4,    3,    2,    1],\n",
              "       [   0, 1111,    3,    2,    0,    1,    4,    2,   12,    0],\n",
              "       [   7,   11,  915,   12,    7,    6,   12,   10,   48,    4],\n",
              "       [   5,    0,   18,  870,    0,   62,    2,   15,   30,    8],\n",
              "       [   1,    1,    4,    1,  901,    0,   11,    7,   10,   46],\n",
              "       [   7,    2,    2,   13,    6,  808,   10,    6,   31,    7],\n",
              "       [  11,    3,    5,    1,    7,   23,  904,    2,    2,    0],\n",
              "       [   1,    6,   22,    3,    2,    0,    0,  964,    2,   28],\n",
              "       [   6,    7,    5,   13,    9,   35,    8,   11,  872,    8],\n",
              "       [  10,    7,    1,    5,   15,   10,    0,   30,   10,  921]],\n",
              "      dtype=int32)>"
            ]
          },
          "metadata": {
            "tags": []
          },
          "execution_count": 21
        }
      ]
    },
    {
      "cell_type": "code",
      "metadata": {
        "colab": {
          "base_uri": "https://localhost:8080/",
          "height": 428
        },
        "id": "fh_X_1WtegRT",
        "outputId": "88b196a9-9e0d-4514-ac83-227113e318a8"
      },
      "source": [
        "import seaborn as sns\n",
        "%matplotlib inline\n",
        "plt.figure(figsize = (10, 7))\n",
        "sns.heatmap(cm, annot = True)\n",
        "plt.show()"
      ],
      "execution_count": 22,
      "outputs": [
        {
          "output_type": "display_data",
          "data": {
            "image/png": "[encoded data removed]",
            "text/plain": [
              "<Figure size 720x504 with 2 Axes>"
            ]
          },
          "metadata": {
            "tags": [],
            "needs_background": "light"
          }
        }
      ]
    },
    {
      "cell_type": "code",
      "metadata": {
        "id": "hSDv7NS5e4-U"
      },
      "source": [
        ""
      ],
      "execution_count": null,
      "outputs": []
    }
  ]
}